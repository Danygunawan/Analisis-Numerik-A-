{
  "nbformat": 4,
  "nbformat_minor": 0,
  "metadata": {
    "colab": {
      "private_outputs": true,
      "provenance": []
    },
    "kernelspec": {
      "name": "python3",
      "display_name": "Python 3"
    },
    "language_info": {
      "name": "python"
    }
  },
  "cells": [
    {
      "cell_type": "code",
      "execution_count": null,
      "metadata": {
        "id": "LeJl1Ov5gSYB"
      },
      "outputs": [],
      "source": [
        "import numpy as np\n",
        "import matplotlib.pyplot as plt\n",
        "\n",
        "n = 200\n",
        "NPM = 75\n",
        "\n",
        "np.random.seed(NPM)\n",
        "x = np.random.uniform(0, 4*np.pi, n)\n",
        "\n",
        "y_true = 4 * np.sin(2*x + 0.2)\n",
        "\n",
        "noise = np.random.normal(0, 0.4, n)\n",
        "y_noisy = y_true + noise\n",
        "\n",
        "degree = 9\n",
        "coeffs = np.polyfit(x, y_noisy, degree)\n",
        "poly_fit = np.poly1d(coeffs)\n",
        "x_sorted = np.linspace(0, 4*np.pi, 500)\n",
        "y_poly = poly_fit(x_sorted)\n",
        "\n",
        "plt.scatter(x, y_noisy, label=\"Noisy data\", color=\"red\", alpha=0.5)\n",
        "plt.plot(x_sorted, y_poly, label=f\"Polynomial fit (deg={degree})\", color=\"blue\")\n",
        "plt.plot(x_sorted, 4*np.sin(2*x_sorted + 0.2), label=\"True function\", color=\"green\", linestyle=\"--\")\n",
        "plt.xlabel(\"x\")\n",
        "plt.ylabel(\"y\")\n",
        "plt.legend()\n",
        "plt.show()\n",
        "\n",
        "print(\"Koefisien polinomial:\", coeffs)\n"
      ]
    },
    {
      "cell_type": "markdown",
      "source": [
        "Berdasarkan hasil fitting polinomial orde 9, terlihat bahwa polinomial belum mampu mengikuti pola sinusoidal dari fungsi asli dengan baik. Meskipun kurva fitting mendekati data pada beberapa titik, terdapat penyimpangan yang cukup besar pada interval tertentu. Hal ini menunjukkan bahwa polinomial orde 9 masih underfitting, sehingga diperlukan orde yang lebih tinggi atau metode aproksimasi lain yang lebih sesuai dengan fungsi periodik sinusoidal."
      ],
      "metadata": {
        "id": "tPTgmNich3QI"
      }
    }
  ]
}