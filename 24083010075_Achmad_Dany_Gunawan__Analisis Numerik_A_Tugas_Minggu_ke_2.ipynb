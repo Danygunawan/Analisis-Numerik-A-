{
 "cells": [
  {
   "cell_type": "code",
   "execution_count": 11,
   "metadata": {
    "id": "WA7AG1RAGr95"
   },
   "outputs": [
    {
     "name": "stdout",
     "output_type": "stream",
     "text": [
      "Integral total (∫ f(x) dx) ≈ 2.1864414308144693\n",
      "\n",
      "Beberapa nilai turunan f'(x) dengan metode Heun:\n",
      "x=0.00, f'(x)≈4.9853\n",
      "x=2.00, f'(x)≈-1.0830\n",
      "x=4.01, f'(x)≈-0.5898\n",
      "x=6.01, f'(x)≈3.4192\n",
      "x=8.02, f'(x)≈-0.6390\n"
     ]
    }
   ],
   "source": [
    "# Nama : Achmad Dany Gunawan\n",
    "# Npm : 24083010075\n",
    "\n",
    "\n",
    "# Hitung integral dan diferensial dari fungsi ‘f’ untuk interval x\n",
    "import numpy as np\n",
    "import matplotlib.pyplot as plt\n",
    "\n",
    "# interval\n",
    "x = np.linspace(0, 10, 500)\n",
    "dx = x[1] - x[0]\n",
    "\n",
    "# Deret fungsi sinusoidal\n",
    "f = np.sin(x) + 0.5*np.sin(2*x) + (1/3)*np.sin(3*x) + (1/4)*np.sin(4*x) + (1/5)*np.sin(5*x)\n",
    "\n",
    "# METODE HEUN\n",
    "def heun_diff(x, y):\n",
    "    \"\"\"\n",
    "    y: nilai fungsi f(x) yang diketahui\n",
    "    x: titik-titik x\n",
    "    \"\"\"\n",
    "    h = x[1] - x[0]\n",
    "    n = len(x)\n",
    "    dydx = np.zeros(n)\n",
    "\n",
    "    for i in range(n-1):\n",
    "        k1 = (y[i+1] - y[i]) / h\n",
    "        if i < n-2:\n",
    "            k2 = (y[i+2] - y[i+1]) / h\n",
    "        else:\n",
    "            k2 = k1\n",
    "        dydx[i] = 0.5 * (k1 + k2)\n",
    "\n",
    "    dydx[-1] = dydx[-2]\n",
    "    return dydx\n",
    "\n",
    "# Turunan dengan metode Heun\n",
    "f_prime_heun = heun_diff(x, f)\n",
    "\n",
    "# INTEGRAL\n",
    "F = np.zeros_like(f)\n",
    "F[1:] = np.cumsum(0.5 * (f[:-1] + f[1:]) * dx)\n",
    "I_total =  np.trapz(f, x)\n",
    "\n",
    "print(\"Integral total (∫ f(x) dx) ≈\", I_total)\n",
    "print(\"\\nBeberapa nilai turunan f'(x) dengan metode Heun:\")\n",
    "for i in range(0, len(x), 100):\n",
    "    print(f\"x={x[i]:.2f}, f'(x)≈{f_prime_heun[i]:.4f}\")"
   ]
  },
  {
   "cell_type": "code",
   "execution_count": 29,
   "metadata": {
    "id": "iAK4IojEHgfY"
   },
   "outputs": [
    {
     "name": "stdout",
     "output_type": "stream",
     "text": [
      "Integral total (∫ f dx)            = 2.186441\n",
      "Integral bagian atas (f > 0)       = 4.604371\n",
      "Integral bagian bawah (f < 0)      = -2.417929  (negatif)\n",
      "Luas bagian bawah (absolut)        = 2.417929\n"
     ]
    }
   ],
   "source": [
    "# hitung secara terpisah bagian integral di atas dan di bawah y=0\n",
    "\n",
    "# pisahkan area atas & bawah\n",
    "f_pos = np.where(f > 0, f, 0.0)\n",
    "f_neg = np.where(f < 0, f, 0.0)\n",
    "\n",
    "# hitung integral dengan aturan trapesium\n",
    "I_total =  np.trapz(f, x)\n",
    "I_pos   = np.trapz(f_pos, x)\n",
    "I_neg   = np.trapz(f_neg, x)\n",
    "area_neg_abs = abs(I_neg)\n",
    "\n",
    "# tampilkan hasil\n",
    "print(f\"Integral total (∫ f dx)            = {I_total:.6f}\")\n",
    "print(f\"Integral bagian atas (f > 0)       = {I_pos:.6f}\")\n",
    "print(f\"Integral bagian bawah (f < 0)      = {I_neg:.6f}  (negatif)\")\n",
    "print(f\"Luas bagian bawah (absolut)        = {area_neg_abs:.6f}\")"
   ]
  }
 ],
 "metadata": {
  "colab": {
   "private_outputs": true,
   "provenance": []
  },
  "kernelspec": {
   "display_name": "Python 3 (ipykernel)",
   "language": "python",
   "name": "python3"
  },
  "language_info": {
   "codemirror_mode": {
    "name": "ipython",
    "version": 3
   },
   "file_extension": ".py",
   "mimetype": "text/x-python",
   "name": "python",
   "nbconvert_exporter": "python",
   "pygments_lexer": "ipython3",
   "version": "3.12.4"
  }
 },
 "nbformat": 4,
 "nbformat_minor": 4
}
